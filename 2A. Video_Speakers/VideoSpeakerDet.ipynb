{
 "cells": [
  {
   "cell_type": "markdown",
   "id": "24bdac7c",
   "metadata": {},
   "source": [
    "# "
   ]
  },
  {
   "cell_type": "code",
   "execution_count": 11,
   "id": "8bf4b707",
   "metadata": {},
   "outputs": [
    {
     "name": "stdout",
     "output_type": "stream",
     "text": [
      "MoviePy - Writing audio in SpeakersSeparation.wav\n"
     ]
    },
    {
     "name": "stderr",
     "output_type": "stream",
     "text": [
      "                                                                                                                       \r"
     ]
    },
    {
     "name": "stdout",
     "output_type": "stream",
     "text": [
      "MoviePy - Done.\n",
      "Total number of speakers: 2\n"
     ]
    }
   ],
   "source": [
    "import cv2\n",
    "from pyAudioAnalysis.audioSegmentation import speaker_diarization\n",
    "import moviepy.editor as mp\n",
    "import os\n",
    "\n",
    "video_file = 'Speakers.mp4'\n",
    "cap = cv2.VideoCapture(video_file)\n",
    "\n",
    "while True:\n",
    "    ret, frame = cap.read()\n",
    "\n",
    "    if not ret:\n",
    "        break\n",
    "\n",
    "    cv2.imshow('Speakers Video', frame)\n",
    "\n",
    "    if cv2.waitKey(25) & 0xFF == ord('q'):\n",
    "        break\n",
    "\n",
    "cap.release()\n",
    "cv2.destroyAllWindows()\n",
    "\n",
    "video_path = video_file\n",
    "video_clip = mp.VideoFileClip(video_path)\n",
    "audio_clip = video_clip.audio\n",
    "audio_clip.to_audiofile(\"SpeakersSeparation.wav\")\n",
    "diarization_result = speaker_diarization(\"SpeakersSeparation.wav\", n_speakers=2)\n",
    "diarization_list = list(diarization_result[0])\n",
    "num_speakers = len(set(diarization_list))\n",
    "print(f\"Total number of speakers: {num_speakers}\")\n",
    "\n",
    "os.remove(\"SpeakersSeparation.wav\")"
   ]
  },
  {
   "cell_type": "code",
   "execution_count": null,
   "id": "6e6b153c",
   "metadata": {},
   "outputs": [],
   "source": []
  }
 ],
 "metadata": {
  "kernelspec": {
   "display_name": "Python 3 (ipykernel)",
   "language": "python",
   "name": "python3"
  },
  "language_info": {
   "codemirror_mode": {
    "name": "ipython",
    "version": 3
   },
   "file_extension": ".py",
   "mimetype": "text/x-python",
   "name": "python",
   "nbconvert_exporter": "python",
   "pygments_lexer": "ipython3",
   "version": "3.11.4"
  },
  "varInspector": {
   "cols": {
    "lenName": 16,
    "lenType": 16,
    "lenVar": 40
   },
   "kernels_config": {
    "python": {
     "delete_cmd_postfix": "",
     "delete_cmd_prefix": "del ",
     "library": "var_list.py",
     "varRefreshCmd": "print(var_dic_list())"
    },
    "r": {
     "delete_cmd_postfix": ") ",
     "delete_cmd_prefix": "rm(",
     "library": "var_list.r",
     "varRefreshCmd": "cat(var_dic_list()) "
    }
   },
   "types_to_exclude": [
    "module",
    "function",
    "builtin_function_or_method",
    "instance",
    "_Feature"
   ],
   "window_display": false
  }
 },
 "nbformat": 4,
 "nbformat_minor": 5
}
